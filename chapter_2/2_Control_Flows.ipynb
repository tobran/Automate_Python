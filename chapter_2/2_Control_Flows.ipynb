{
 "cells": [
  {
   "cell_type": "markdown",
   "metadata": {},
   "source": [
    "# 1.控制流的元素（条件+代码块）"
   ]
  },
  {
   "cell_type": "markdown",
   "metadata": {},
   "source": [
    "### 1.1 条件（布尔值）"
   ]
  },
  {
   "cell_type": "markdown",
   "metadata": {},
   "source": [
    "条件一般是**布尔值**或**布尔表达式**，总是求值为True或False来控制代码块的执行与否。"
   ]
  },
  {
   "cell_type": "markdown",
   "metadata": {},
   "source": [
    "### 1.2 代码块（缩进）"
   ]
  },
  {
   "cell_type": "markdown",
   "metadata": {},
   "source": [
    "Python中，代码块有3条规则：\n",
    "\n",
    "- 缩进开始，代码块开始\n",
    "- 缩进为0，或减少为外围代码块的缩进，则当前代码块结束\n",
    "- 代码块可以包含代码块"
   ]
  },
  {
   "cell_type": "code",
   "execution_count": null,
   "metadata": {},
   "outputs": [],
   "source": [
    "print(\"please input your password\")\n",
    "password = input()\n",
    "\n",
    "if password == 'fish':\n",
    "    print('access granted')\n",
    "else:\n",
    "    print('wrong password')"
   ]
  },
  {
   "cell_type": "code",
   "execution_count": null,
   "metadata": {},
   "outputs": [],
   "source": []
  }
 ],
 "metadata": {
  "kernelspec": {
   "display_name": "Python 3",
   "language": "python",
   "name": "python3"
  },
  "language_info": {
   "codemirror_mode": {
    "name": "ipython",
    "version": 3
   },
   "file_extension": ".py",
   "mimetype": "text/x-python",
   "name": "python",
   "nbconvert_exporter": "python",
   "pygments_lexer": "ipython3",
   "version": "3.7.2"
  }
 },
 "nbformat": 4,
 "nbformat_minor": 2
}
